{
 "cells": [
  {
   "cell_type": "code",
   "execution_count": 33,
   "metadata": {},
   "outputs": [
    {
     "name": "stdout",
     "output_type": "stream",
     "text": [
      "Successfully Work notebook\n"
     ]
    }
   ],
   "source": [
    "print(\"Successfully Work notebook\")\n"
   ]
  },
  {
   "cell_type": "markdown",
   "metadata": {},
   "source": [
    "- API Reference: https://platform.openai.com/docs/api-reference/chat/create"
   ]
  },
  {
   "cell_type": "code",
   "execution_count": 38,
   "metadata": {},
   "outputs": [],
   "source": [
    "import os\n",
    "import openai\n",
    "from dotenv import load_dotenv"
   ]
  },
  {
   "cell_type": "code",
   "execution_count": 39,
   "metadata": {},
   "outputs": [
    {
     "name": "stdout",
     "output_type": "stream",
     "text": [
      "sk-test1234567890abcdefghijklmnopqrstuv\n"
     ]
    }
   ],
   "source": [
    "load_dotenv()\n",
    "openai.api_key = os.getenv(\"OPENAI_API_KEY\")  # ✅ নাম দিতে হবে, মান না\n",
    "\n",
    "print(openai.api_key)  # এখন ঠিক key প্রিন্ট হবে"
   ]
  },
  {
   "cell_type": "code",
   "execution_count": 37,
   "metadata": {},
   "outputs": [
    {
     "name": "stdout",
     "output_type": "stream",
     "text": [
      "sk-test1234567890abcdefghijklmnopqrstuv\n"
     ]
    }
   ],
   "source": [
    "from dotenv import load_dotenv\n",
    "import os\n",
    "\n",
    "load_dotenv()  # Load variables from .env file\n",
    "\n",
    "OPENAI_API_KEY = os.getenv(\"OPENAI_API_KEY\")\n",
    "print(OPENAI_API_KEY) "
   ]
  },
  {
   "cell_type": "code",
   "execution_count": 26,
   "metadata": {},
   "outputs": [],
   "source": [
    "openai.api_key=OPENAI_API_KEY  # OpenAI API key automatically load package itself."
   ]
  },
  {
   "cell_type": "code",
   "execution_count": 27,
   "metadata": {},
   "outputs": [
    {
     "name": "stdout",
     "output_type": "stream",
     "text": [
      "Name: openai\n",
      "Version: 1.68.2\n",
      "Summary: The official Python library for the openai API\n",
      "Home-page: \n",
      "Author: \n",
      "Author-email: OpenAI <support@openai.com>\n",
      "License: Apache-2.0\n",
      "Location: F:\\Generative AI\\OpenAI-Demo\\OpenAI-Demo\\openai\\Lib\\site-packages\n",
      "Requires: anyio, distro, httpx, jiter, pydantic, sniffio, tqdm, typing-extensions\n",
      "Required-by: \n"
     ]
    }
   ],
   "source": [
    "!pip show openai"
   ]
  },
  {
   "cell_type": "code",
   "execution_count": 28,
   "metadata": {},
   "outputs": [
    {
     "ename": "AuthenticationError",
     "evalue": "Error code: 401 - {'error': {'message': 'Incorrect API key provided: sk-test1***************************stuv. You can find your API key at https://platform.openai.com/account/api-keys.', 'type': 'invalid_request_error', 'param': None, 'code': 'invalid_api_key'}}",
     "output_type": "error",
     "traceback": [
      "\u001b[31m---------------------------------------------------------------------------\u001b[39m",
      "\u001b[31mAuthenticationError\u001b[39m                       Traceback (most recent call last)",
      "\u001b[36mCell\u001b[39m\u001b[36m \u001b[39m\u001b[32mIn[28]\u001b[39m\u001b[32m, line 1\u001b[39m\n\u001b[32m----> \u001b[39m\u001b[32m1\u001b[39m \u001b[43mopenai\u001b[49m\u001b[43m.\u001b[49m\u001b[43mmodels\u001b[49m\u001b[43m.\u001b[49m\u001b[43mlist\u001b[49m\u001b[43m(\u001b[49m\u001b[43m)\u001b[49m\n",
      "\u001b[36mFile \u001b[39m\u001b[32mf:\\Generative AI\\OpenAI-Demo\\OpenAI-Demo\\openai\\Lib\\site-packages\\openai\\resources\\models.py:91\u001b[39m, in \u001b[36mModels.list\u001b[39m\u001b[34m(self, extra_headers, extra_query, extra_body, timeout)\u001b[39m\n\u001b[32m     77\u001b[39m \u001b[38;5;28;01mdef\u001b[39;00m\u001b[38;5;250m \u001b[39m\u001b[34mlist\u001b[39m(\n\u001b[32m     78\u001b[39m     \u001b[38;5;28mself\u001b[39m,\n\u001b[32m     79\u001b[39m     *,\n\u001b[32m   (...)\u001b[39m\u001b[32m     85\u001b[39m     timeout: \u001b[38;5;28mfloat\u001b[39m | httpx.Timeout | \u001b[38;5;28;01mNone\u001b[39;00m | NotGiven = NOT_GIVEN,\n\u001b[32m     86\u001b[39m ) -> SyncPage[Model]:\n\u001b[32m     87\u001b[39m \u001b[38;5;250m    \u001b[39m\u001b[33;03m\"\"\"\u001b[39;00m\n\u001b[32m     88\u001b[39m \u001b[33;03m    Lists the currently available models, and provides basic information about each\u001b[39;00m\n\u001b[32m     89\u001b[39m \u001b[33;03m    one such as the owner and availability.\u001b[39;00m\n\u001b[32m     90\u001b[39m \u001b[33;03m    \"\"\"\u001b[39;00m\n\u001b[32m---> \u001b[39m\u001b[32m91\u001b[39m     \u001b[38;5;28;01mreturn\u001b[39;00m \u001b[38;5;28;43mself\u001b[39;49m\u001b[43m.\u001b[49m\u001b[43m_get_api_list\u001b[49m\u001b[43m(\u001b[49m\n\u001b[32m     92\u001b[39m \u001b[43m        \u001b[49m\u001b[33;43m\"\u001b[39;49m\u001b[33;43m/models\u001b[39;49m\u001b[33;43m\"\u001b[39;49m\u001b[43m,\u001b[49m\n\u001b[32m     93\u001b[39m \u001b[43m        \u001b[49m\u001b[43mpage\u001b[49m\u001b[43m=\u001b[49m\u001b[43mSyncPage\u001b[49m\u001b[43m[\u001b[49m\u001b[43mModel\u001b[49m\u001b[43m]\u001b[49m\u001b[43m,\u001b[49m\n\u001b[32m     94\u001b[39m \u001b[43m        \u001b[49m\u001b[43moptions\u001b[49m\u001b[43m=\u001b[49m\u001b[43mmake_request_options\u001b[49m\u001b[43m(\u001b[49m\n\u001b[32m     95\u001b[39m \u001b[43m            \u001b[49m\u001b[43mextra_headers\u001b[49m\u001b[43m=\u001b[49m\u001b[43mextra_headers\u001b[49m\u001b[43m,\u001b[49m\u001b[43m \u001b[49m\u001b[43mextra_query\u001b[49m\u001b[43m=\u001b[49m\u001b[43mextra_query\u001b[49m\u001b[43m,\u001b[49m\u001b[43m \u001b[49m\u001b[43mextra_body\u001b[49m\u001b[43m=\u001b[49m\u001b[43mextra_body\u001b[49m\u001b[43m,\u001b[49m\u001b[43m \u001b[49m\u001b[43mtimeout\u001b[49m\u001b[43m=\u001b[49m\u001b[43mtimeout\u001b[49m\n\u001b[32m     96\u001b[39m \u001b[43m        \u001b[49m\u001b[43m)\u001b[49m\u001b[43m,\u001b[49m\n\u001b[32m     97\u001b[39m \u001b[43m        \u001b[49m\u001b[43mmodel\u001b[49m\u001b[43m=\u001b[49m\u001b[43mModel\u001b[49m\u001b[43m,\u001b[49m\n\u001b[32m     98\u001b[39m \u001b[43m    \u001b[49m\u001b[43m)\u001b[49m\n",
      "\u001b[36mFile \u001b[39m\u001b[32mf:\\Generative AI\\OpenAI-Demo\\OpenAI-Demo\\openai\\Lib\\site-packages\\openai\\_base_client.py:1291\u001b[39m, in \u001b[36mSyncAPIClient.get_api_list\u001b[39m\u001b[34m(self, path, model, page, body, options, method)\u001b[39m\n\u001b[32m   1280\u001b[39m \u001b[38;5;28;01mdef\u001b[39;00m\u001b[38;5;250m \u001b[39m\u001b[34mget_api_list\u001b[39m(\n\u001b[32m   1281\u001b[39m     \u001b[38;5;28mself\u001b[39m,\n\u001b[32m   1282\u001b[39m     path: \u001b[38;5;28mstr\u001b[39m,\n\u001b[32m   (...)\u001b[39m\u001b[32m   1288\u001b[39m     method: \u001b[38;5;28mstr\u001b[39m = \u001b[33m\"\u001b[39m\u001b[33mget\u001b[39m\u001b[33m\"\u001b[39m,\n\u001b[32m   1289\u001b[39m ) -> SyncPageT:\n\u001b[32m   1290\u001b[39m     opts = FinalRequestOptions.construct(method=method, url=path, json_data=body, **options)\n\u001b[32m-> \u001b[39m\u001b[32m1291\u001b[39m     \u001b[38;5;28;01mreturn\u001b[39;00m \u001b[38;5;28;43mself\u001b[39;49m\u001b[43m.\u001b[49m\u001b[43m_request_api_list\u001b[49m\u001b[43m(\u001b[49m\u001b[43mmodel\u001b[49m\u001b[43m,\u001b[49m\u001b[43m \u001b[49m\u001b[43mpage\u001b[49m\u001b[43m,\u001b[49m\u001b[43m \u001b[49m\u001b[43mopts\u001b[49m\u001b[43m)\u001b[49m\n",
      "\u001b[36mFile \u001b[39m\u001b[32mf:\\Generative AI\\OpenAI-Demo\\OpenAI-Demo\\openai\\Lib\\site-packages\\openai\\_base_client.py:1142\u001b[39m, in \u001b[36mSyncAPIClient._request_api_list\u001b[39m\u001b[34m(self, model, page, options)\u001b[39m\n\u001b[32m   1138\u001b[39m     \u001b[38;5;28;01mreturn\u001b[39;00m resp\n\u001b[32m   1140\u001b[39m options.post_parser = _parser\n\u001b[32m-> \u001b[39m\u001b[32m1142\u001b[39m \u001b[38;5;28;01mreturn\u001b[39;00m \u001b[38;5;28;43mself\u001b[39;49m\u001b[43m.\u001b[49m\u001b[43mrequest\u001b[49m\u001b[43m(\u001b[49m\u001b[43mpage\u001b[49m\u001b[43m,\u001b[49m\u001b[43m \u001b[49m\u001b[43moptions\u001b[49m\u001b[43m,\u001b[49m\u001b[43m \u001b[49m\u001b[43mstream\u001b[49m\u001b[43m=\u001b[49m\u001b[38;5;28;43;01mFalse\u001b[39;49;00m\u001b[43m)\u001b[49m\n",
      "\u001b[36mFile \u001b[39m\u001b[32mf:\\Generative AI\\OpenAI-Demo\\OpenAI-Demo\\openai\\Lib\\site-packages\\openai\\_base_client.py:919\u001b[39m, in \u001b[36mSyncAPIClient.request\u001b[39m\u001b[34m(self, cast_to, options, remaining_retries, stream, stream_cls)\u001b[39m\n\u001b[32m    916\u001b[39m \u001b[38;5;28;01melse\u001b[39;00m:\n\u001b[32m    917\u001b[39m     retries_taken = \u001b[32m0\u001b[39m\n\u001b[32m--> \u001b[39m\u001b[32m919\u001b[39m \u001b[38;5;28;01mreturn\u001b[39;00m \u001b[38;5;28;43mself\u001b[39;49m\u001b[43m.\u001b[49m\u001b[43m_request\u001b[49m\u001b[43m(\u001b[49m\n\u001b[32m    920\u001b[39m \u001b[43m    \u001b[49m\u001b[43mcast_to\u001b[49m\u001b[43m=\u001b[49m\u001b[43mcast_to\u001b[49m\u001b[43m,\u001b[49m\n\u001b[32m    921\u001b[39m \u001b[43m    \u001b[49m\u001b[43moptions\u001b[49m\u001b[43m=\u001b[49m\u001b[43moptions\u001b[49m\u001b[43m,\u001b[49m\n\u001b[32m    922\u001b[39m \u001b[43m    \u001b[49m\u001b[43mstream\u001b[49m\u001b[43m=\u001b[49m\u001b[43mstream\u001b[49m\u001b[43m,\u001b[49m\n\u001b[32m    923\u001b[39m \u001b[43m    \u001b[49m\u001b[43mstream_cls\u001b[49m\u001b[43m=\u001b[49m\u001b[43mstream_cls\u001b[49m\u001b[43m,\u001b[49m\n\u001b[32m    924\u001b[39m \u001b[43m    \u001b[49m\u001b[43mretries_taken\u001b[49m\u001b[43m=\u001b[49m\u001b[43mretries_taken\u001b[49m\u001b[43m,\u001b[49m\n\u001b[32m    925\u001b[39m \u001b[43m\u001b[49m\u001b[43m)\u001b[49m\n",
      "\u001b[36mFile \u001b[39m\u001b[32mf:\\Generative AI\\OpenAI-Demo\\OpenAI-Demo\\openai\\Lib\\site-packages\\openai\\_base_client.py:1023\u001b[39m, in \u001b[36mSyncAPIClient._request\u001b[39m\u001b[34m(self, cast_to, options, retries_taken, stream, stream_cls)\u001b[39m\n\u001b[32m   1020\u001b[39m         err.response.read()\n\u001b[32m   1022\u001b[39m     log.debug(\u001b[33m\"\u001b[39m\u001b[33mRe-raising status error\u001b[39m\u001b[33m\"\u001b[39m)\n\u001b[32m-> \u001b[39m\u001b[32m1023\u001b[39m     \u001b[38;5;28;01mraise\u001b[39;00m \u001b[38;5;28mself\u001b[39m._make_status_error_from_response(err.response) \u001b[38;5;28;01mfrom\u001b[39;00m\u001b[38;5;250m \u001b[39m\u001b[38;5;28;01mNone\u001b[39;00m\n\u001b[32m   1025\u001b[39m \u001b[38;5;28;01mreturn\u001b[39;00m \u001b[38;5;28mself\u001b[39m._process_response(\n\u001b[32m   1026\u001b[39m     cast_to=cast_to,\n\u001b[32m   1027\u001b[39m     options=options,\n\u001b[32m   (...)\u001b[39m\u001b[32m   1031\u001b[39m     retries_taken=retries_taken,\n\u001b[32m   1032\u001b[39m )\n",
      "\u001b[31mAuthenticationError\u001b[39m: Error code: 401 - {'error': {'message': 'Incorrect API key provided: sk-test1***************************stuv. You can find your API key at https://platform.openai.com/account/api-keys.', 'type': 'invalid_request_error', 'param': None, 'code': 'invalid_api_key'}}"
     ]
    }
   ],
   "source": [
    "openai.models.list()"
   ]
  },
  {
   "cell_type": "code",
   "execution_count": null,
   "metadata": {},
   "outputs": [],
   "source": [
    "openai.models.list()['data']"
   ]
  },
  {
   "cell_type": "code",
   "execution_count": null,
   "metadata": {},
   "outputs": [],
   "source": [
    "import pandas as pd\n",
    "\n",
    "pd.DataFrame(openai.models.list()['data'])"
   ]
  },
  {
   "cell_type": "code",
   "execution_count": null,
   "metadata": {},
   "outputs": [],
   "source": [
    "from openai import OpenAI\n",
    "\n",
    "client = OpenAI(api_key=OPENAI_API_KEY)  # or set env variable and use client = OpenAI()\n",
    "\n",
    "models = client.models.list()\n",
    "for model in models.data:\n",
    "    print(model.id)"
   ]
  },
  {
   "cell_type": "markdown",
   "metadata": {},
   "source": [
    "## ChatCompletion API and Completion API\n",
    "- Completion API: Hooks you up with text completions from a single prompt.\n",
    "- Chat Completion API: Nails it in the chat game, keeping the conversational flow intact."
   ]
  },
  {
   "cell_type": "markdown",
   "metadata": {},
   "source": [
    "### Chat Completion API\n",
    "- First of all, The API sends a request to the model, the model creates a response, and then I get to see that perticular response.."
   ]
  },
  {
   "cell_type": "code",
   "execution_count": null,
   "metadata": {},
   "outputs": [],
   "source": [
    "import openai\n",
    "\n",
    "prompt = \"Artificial intelligence is Most demandable subject\"\n",
    "\n",
    "response = openai.ChatCompletion.create(\n",
    "    model=\"gpt-3.5-turbo\",\n",
    "    messages=[  # Corrected this line (was 'message')\n",
    "        {\"role\": \"system\", \"content\": \"Artificial intelligence is my favorite subject\"},\n",
    "        {\"role\": \"user\", \"content\": prompt}\n",
    "    ]\n",
    ")\n",
    "\n",
    "print(response)"
   ]
  },
  {
   "cell_type": "code",
   "execution_count": null,
   "metadata": {},
   "outputs": [],
   "source": [
    "import openai\n",
    "\n",
    "prompt = \"Artificial intelligence is Most demandable subject\"\n",
    "\n",
    "response = openai.ChatCompletion.create(\n",
    "    model=\"gpt-3.5-turbo\",\n",
    "    messages=[  # Corrected this line (was 'message')\n",
    "        {\"role\": \"system\", \"content\": \"Artificial intelligence is my favorite subject\"},\n",
    "        {\"role\": \"user\", \"content\": prompt}\n",
    "    ]\n",
    ")\n",
    "\n",
    "print(response['choices'])\n",
    "#print(response['choices'][0])\n",
    "#print(response['choices'][0]['message'])\n",
    "#print(response['choices'][0]['message']['content'])"
   ]
  },
  {
   "cell_type": "code",
   "execution_count": null,
   "metadata": {},
   "outputs": [],
   "source": [
    "print(response['choices'][0])"
   ]
  },
  {
   "cell_type": "code",
   "execution_count": null,
   "metadata": {},
   "outputs": [],
   "source": [
    "print(response['choices'][0]['message'])"
   ]
  },
  {
   "cell_type": "code",
   "execution_count": null,
   "metadata": {},
   "outputs": [],
   "source": [
    "print(response['choices'][0]['message']['content'])"
   ]
  },
  {
   "cell_type": "code",
   "execution_count": null,
   "metadata": {},
   "outputs": [],
   "source": [
    "# ChatCompletion API\n",
    "\n",
    "prompt1 = \"Hello How are you?\"\n",
    "prompt2 = \"I am 25 years old & I am a Programmer\"\n",
    "prompt3 = \"Tell me about me\"\n",
    "\n",
    "response = openai.ChatCompletion.create(\n",
    "    model=\"gpt-3.5-turbo\",\n",
    "    messages=[\n",
    "        {\"role\": \"system\", \"content\": \"You are a helpful assistant.\"},\n",
    "        {\"role\": \"user\", \"content\": prompt1},\n",
    "        {\"role\": \"user\", \"content\": prompt2},\n",
    "        {\"role\": \"user\", \"content\": prompt3},\n",
    "    ]\n",
    ")\n",
    "\n",
    "print(response['choices'][0]['message']['content'])"
   ]
  },
  {
   "cell_type": "code",
   "execution_count": null,
   "metadata": {},
   "outputs": [],
   "source": [
    "prompt = \"What is a python programing\"\n",
    "\n",
    "response = openai.ChatCompletion.create(\n",
    "    model=\"gpt-3.5-turbo\",\n",
    "    messages=[\n",
    "        {\"role\": \"system\", \"content\": \"You are a helpful assistant.\"},\n",
    "        {\"role\": \"user\", \"content\": prompt}\n",
    "    ],\n",
    "    max_tokens=25   # max tokens parameter\n",
    ")\n",
    "\n",
    "print(response[\"choices\"][0][\"message\"][\"content\"])"
   ]
  },
  {
   "attachments": {
    "image.png": {
     "image/png": "[encoded data removed]"
    }
   },
   "cell_type": "markdown",
   "metadata": {},
   "source": [
    "# ![image.png](attachment:image.png)"
   ]
  },
  {
   "cell_type": "markdown",
   "metadata": {},
   "source": [
    "### 🔹 OpenAI ChatCompletion Parameters\n",
    "\n",
    "---\n",
    "\n",
    "#### 1. `max_tokens=50`\n",
    "- **বাংলা**: সর্বোচ্চ ৫০টা token (শব্দ বা শব্দের অংশ) রেসপন্সে দেবে।\n",
    "- **ব্যবহার**: ছোট উত্তর চাইলে কম, বড় উত্তর চাইলে বেশি দিতে পারো।\n",
    "\n",
    "---\n",
    "\n",
    "#### 2. `temperature=0.8`\n",
    "- **বাংলা**: উত্তর কতটা ক্রিয়েটিভ বা র‍্যান্ডম হবে।\n",
    "- **ব্যাখ্যা**:\n",
    "  - `0.0` → খুবই সিরিয়াস এবং প্রেডিক্টেবল উত্তর।\n",
    "  - `1.0` → বেশি ক্রিয়েটিভ এবং মাঝে মাঝে অপ্রত্যাশিত উত্তর।\n",
    "\n",
    "---\n",
    "\n",
    "#### 3. `top_p=1.0`\n",
    "- **বাংলা**: `temperature` এর মতোই কাজ করে, তবে একটু আলাদা পদ্ধতিতে।\n",
    "- **ব্যবহার**:\n",
    "  - `1.0` → পুরোপুরি র‍্যান্ডম অনুমতি।\n",
    "  - সাধারণত `temperature` বা `top_p` — একটা ব্যবহার করলেই হয়।\n",
    "\n",
    "---\n",
    "\n",
    "#### 4. `n=1`\n",
    "- **বাংলা**: কতগুলো আলাদা উত্তর চাই।\n",
    "- **উদাহরণ**:\n",
    "  - `n=1` → ১টি উত্তর দেবে।\n",
    "  - `n=3` → ৩টি আলাদা আলাদা উত্তর দেবে (list আকারে)।\n",
    "\n",
    "---\n",
    "\n",
    "#### 5. `stop=[\"\\n\"]`\n",
    "- **বাংলা**: কোথায় এসে উত্তর থেমে যাবে সেটা বলে দেয়।\n",
    "- **উদাহরণ**:\n",
    "  - `\"\\n\"` → নিউ লাইন পেলেই থেমে যাবে।\n",
    "  - `\"STOP\"` → \"STOP\" শব্দ দেখলেই থেমে যাবে।\n",
    "\n",
    "---\n",
    "\n",
    "#### 6. `presence_penalty=0.6`\n",
    "- **বাংলা**: নতুন টপিক নিয়ে কথা বলার প্রবণতা বাড়ায়।\n",
    "- **ব্যবহার**: বেশি ভ্যালু দিলে একই জিনিস বারবার বলবে না।\n",
    "\n",
    "---\n",
    "\n",
    "#### 7. `frequency_penalty=0.5`\n",
    "- **বাংলা**: একই শব্দ বারবার যেন না আসে, সেটা নিয়ন্ত্রণ করে।\n",
    "- **ব্যবহার**: বেশি ভ্যালু দিলে রিপিটেড শব্দ কমবে।"
   ]
  },
  {
   "cell_type": "code",
   "execution_count": null,
   "metadata": {},
   "outputs": [],
   "source": [
    "response = openai.ChatCompletion.create(\n",
    "    model=\"gpt-3.5-turbo\",\n",
    "    messages=[\n",
    "        {\"role\": \"system\", \"content\": \"You are a helpful assistant.\"},\n",
    "        {\"role\": \"user\", \"content\": \"Tell me a joke.\"}\n",
    "    ],\n",
    "    max_tokens=50,        # max tokens 50 tokens i will get. \n",
    "    temperature=0.8,\n",
    "    top_p=1.0,\n",
    "    n=1,                  # The more N I give, the more responses I will get.\n",
    "    stop=[\"\\n\"],\n",
    "    presence_penalty=0.6,\n",
    "    frequency_penalty=0.5\n",
    ")\n",
    "\n",
    "print(response[\"choices\"][0][\"message\"][\"content\"])"
   ]
  },
  {
   "cell_type": "code",
   "execution_count": null,
   "metadata": {},
   "outputs": [],
   "source": [
    "# programming help\n",
    "prompt = \"Give me Python code to add 2 numbers\"\n",
    "\n",
    "response = openai.ChatCompletion.create(\n",
    "    model=\"gpt-3.5-turbo\",\n",
    "    messages=[\n",
    "        {\"role\": \"system\", \"content\": \"You are a helpful assistant.\"},\n",
    "        {\"role\": \"user\", \"content\": prompt}\n",
    "    ],\n",
    "    temperature=0.7,\n",
    "    max_tokens=100\n",
    ")\n",
    "\n",
    "print(response[\"choices\"][0][\"message\"][\"content\"])"
   ]
  },
  {
   "cell_type": "code",
   "execution_count": null,
   "metadata": {},
   "outputs": [],
   "source": [
    "# Language Translation \n",
    "prompt1 = \"Translate this sentence to Bengali: I love learning AI.\"\n",
    "\n",
    "# OR multi-language practice:\n",
    "prompt2 = \"Translate 'Good morning' into Bengali, Hindi, and German.\"\n",
    "\n",
    "response = openai.ChatCompletion.create(\n",
    "    model=\"gpt-3.5-turbo\",\n",
    "    messages=[\n",
    "        {\"role\": \"system\", \"content\": \"You are a helpful assistant.\"},\n",
    "        {\"role\": \"user\", \"content\": prompt1},\n",
    "        {\"role\": \"user\", \"content\": prompt2}\n",
    "    ],\n",
    "    temperature=0.7,\n",
    "    max_tokens=100\n",
    ")\n",
    "\n",
    "print(response[\"choices\"][0][\"message\"][\"content\"])"
   ]
  },
  {
   "cell_type": "code",
   "execution_count": null,
   "metadata": {},
   "outputs": [],
   "source": [
    "# Summarization \n",
    "prompt = \"Summarize this: Artificial intelligence is a growing field that focuses on...\"\n",
    "\n",
    "response = openai.ChatCompletion.create(\n",
    "    model=\"gpt-3.5-turbo\",\n",
    "    messages=[\n",
    "        {\"role\": \"system\", \"content\": \"You are a helpful assistant.\"},\n",
    "        {\"role\": \"user\", \"content\": prompt}\n",
    "    ],\n",
    "    temperature=0.7,\n",
    "    max_tokens=100\n",
    ")\n",
    "\n",
    "print(response[\"choices\"][0][\"message\"][\"content\"])"
   ]
  },
  {
   "cell_type": "code",
   "execution_count": null,
   "metadata": {},
   "outputs": [],
   "source": [
    "# Question-Answering  \n",
    "prompt = \"What is the capital of Germany?\"\n",
    "\n",
    "response = openai.ChatCompletion.create(\n",
    "    model=\"gpt-3.5-turbo\",\n",
    "    messages=[\n",
    "        {\"role\": \"system\", \"content\": \"You are a helpful assistant.\"},\n",
    "        {\"role\": \"user\", \"content\": prompt}\n",
    "    ],\n",
    "    temperature=0.7,\n",
    "    max_tokens=100\n",
    ")\n",
    "\n",
    "print(response[\"choices\"][0][\"message\"][\"content\"])"
   ]
  },
  {
   "cell_type": "code",
   "execution_count": null,
   "metadata": {},
   "outputs": [],
   "source": [
    "# Tone Change\n",
    "prompt1 = \"Rewrite this sentence in a formal tone: Hey dude, what's up?\"\n",
    "\n",
    "# OR polite tone:\n",
    "prompt2 = \"Make this sentence polite: Give me the report now!\"\n",
    "\n",
    "response = openai.ChatCompletion.create(\n",
    "    model=\"gpt-3.5-turbo\",\n",
    "    messages=[\n",
    "        {\"role\": \"system\", \"content\": \"You are a helpful assistant.\"},\n",
    "        {\"role\": \"user\", \"content\": prompt1},\n",
    "        {\"role\": \"user\", \"content\": prompt2}\n",
    "    ],\n",
    "    temperature=0.7,\n",
    "    max_tokens=100\n",
    ")\n",
    "\n",
    "print(response[\"choices\"][0][\"message\"][\"content\"])"
   ]
  },
  {
   "cell_type": "code",
   "execution_count": null,
   "metadata": {},
   "outputs": [],
   "source": [
    "# Explain Like I’m 24\n",
    "prompt = \"Explain machine learning in a very simple way.\"\n",
    "\n",
    "response = openai.ChatCompletion.create(\n",
    "    model=\"gpt-3.5-turbo\",\n",
    "    messages=[\n",
    "        {\"role\": \"system\", \"content\": \"You are a helpful assistant.\"},\n",
    "        {\"role\": \"user\", \"content\": prompt}\n",
    "    ],\n",
    "    temperature=0.7,\n",
    "    max_tokens=100\n",
    ")\n",
    "\n",
    "print(response[\"choices\"][0][\"message\"][\"content\"])"
   ]
  },
  {
   "cell_type": "code",
   "execution_count": null,
   "metadata": {},
   "outputs": [],
   "source": [
    "# Language Practice - Bangla, Hindi, German etc..\n",
    "# Bangla language\n",
    "prompt1 = \"Write a short paragraph about AI in Bengali.\"\n",
    "\n",
    "# Hindi language\n",
    "prompt2 = \"Write a short paragraph about AI in Hindi.\"\n",
    "\n",
    "# German language\n",
    "prompt3 = \"Write a short paragraph about AI in German.\"\n",
    "\n",
    "response = openai.ChatCompletion.create(\n",
    "    model=\"gpt-3.5-turbo\",\n",
    "    messages=[\n",
    "        {\"role\": \"system\", \"content\": \"You are a helpful assistant.\"},\n",
    "        {\"role\": \"user\", \"content\": prompt1},\n",
    "        {\"role\": \"user\", \"content\": prompt2},\n",
    "        {\"role\": \"user\", \"content\": prompt3}\n",
    "    ],\n",
    "    temperature=0.7,\n",
    "    max_tokens=100\n",
    ")\n",
    "\n",
    "print(response[\"choices\"][0][\"message\"][\"content\"])"
   ]
  },
  {
   "cell_type": "code",
   "execution_count": null,
   "metadata": {},
   "outputs": [],
   "source": [
    "# Content Creation - Essay / Poem / Story\n",
    "prompt1 = \"Write a short poem about the beauty of nature.\"\n",
    "\n",
    "# OR\n",
    "prompt2 = \"Write a short story about a boy who discovers AI.\"\n",
    "\n",
    "\n",
    "response = openai.ChatCompletion.create(\n",
    "    model=\"gpt-3.5-turbo\",\n",
    "    messages=[\n",
    "        {\"role\": \"system\", \"content\": \"You are a helpful assistant.\"},\n",
    "        {\"role\": \"user\", \"content\": prompt1},\n",
    "        {\"role\": \"user\", \"content\": prompt2},\n",
    "    ],\n",
    "    temperature=0.7,\n",
    "    max_tokens=100\n",
    ")\n",
    "\n",
    "print(response[\"choices\"][0][\"message\"][\"content\"])"
   ]
  },
  {
   "cell_type": "markdown",
   "metadata": {},
   "source": [
    "## Completion API"
   ]
  },
  {
   "cell_type": "markdown",
   "metadata": {},
   "source": [
    "### 🔹 OpenAI Completion API Parameters (Bangla Explanation)\n",
    "\n",
    "---\n",
    "\n",
    "#### 1. `model`\n",
    "- **ব্যাখ্যা**: কোন মডেল ব্যবহার করছো (e.g., `text-davinci-003`, `babbage-002`)\n",
    "- **উদাহরণ**: `model=\"babbage-002\"`\n",
    "\n",
    "---\n",
    "\n",
    "#### 2. `prompt`\n",
    "- **ব্যাখ্যা**: তুমি কী জানতে বা করতে চাইছো, সেই ইনপুট টেক্সট।\n",
    "- **উদাহরণ**: `prompt=\"What is Python?\"`\n",
    "\n",
    "---\n",
    "\n",
    "#### 3. `max_tokens`\n",
    "- **ব্যাখ্যা**: সর্বোচ্চ কতটি token (শব্দ/অংশ) রেসপন্সে পাবে।\n",
    "- **উদাহরণ**: `max_tokens=50`\n",
    "\n",
    "---\n",
    "\n",
    "#### 4. `temperature`\n",
    "- **ব্যাখ্যা**: উত্তরের র‍্যান্ডমনেস (0 = সিরিয়াস, 1 = ক্রিয়েটিভ)\n",
    "- **উদাহরণ**: `temperature=0.7`\n",
    "\n",
    "---\n",
    "\n",
    "#### 5. `top_p`\n",
    "- **ব্যাখ্যা**: আরেকভাবে র‍্যান্ডমনেস কন্ট্রোল করে (1.0 = ফুল র‍্যান্ডম)\n",
    "- **উদাহরণ**: `top_p=1.0`\n",
    "\n",
    "---\n",
    "\n",
    "#### 6. `n`\n",
    "- **ব্যাখ্যা**: কয়টা আলাদা রেসপন্স চাও।\n",
    "- **উদাহরণ**: `n=2` → ২টি আলাদা রেসপন্স দিবে\n",
    "\n",
    "---\n",
    "\n",
    "#### 7. `stop`\n",
    "- **ব্যাখ্যা**: কোন word/token পেলে রেসপন্স থামবে।\n",
    "- **উদাহরণ**: `stop=[\"\\n\"]` বা `stop=[\"END\"]`\n",
    "\n",
    "---\n",
    "\n",
    "#### 8. `presence_penalty`\n",
    "- **ব্যাখ্যা**: নতুন কিছু বলার প্রবণতা বাড়ায় (০ থেকে ২ এর মধ্যে)\n",
    "- **উদাহরণ**: `presence_penalty=0.5`\n",
    "\n",
    "---\n",
    "\n",
    "#### 9. `frequency_penalty`\n",
    "- **ব্যাখ্যা**: একই শব্দ বারবার যেন না আসে, সেটি নিয়ন্ত্রণ করে।\n",
    "- **উদাহরণ**: `frequency_penalty=0.3`\n",
    "\n",
    "---\n",
    "\n",
    "### 🧩 Full Example with All Parameters:\n",
    "```python\n",
    "response = openai.Completion.create(\n",
    "    model=\"babbage-002\",\n",
    "    prompt=\"Explain AI in simple terms.\",\n",
    "    max_tokens=100,\n",
    "    temperature=0.7,\n",
    "    top_p=1.0,\n",
    "    n=1,\n",
    "    stop=[\"\\n\"],\n",
    "    presence_penalty=0.5,\n",
    "    frequency_penalty=0.3\n",
    ")\n",
    "\n",
    "print(response[\"choices\"][0][\"text\"])"
   ]
  },
  {
   "cell_type": "code",
   "execution_count": null,
   "metadata": {},
   "outputs": [],
   "source": [
    "import openai"
   ]
  },
  {
   "cell_type": "code",
   "execution_count": null,
   "metadata": {},
   "outputs": [],
   "source": [
    "prompt = \"What is Python?\"\n",
    "\n",
    "response = openai.Completion.create(\n",
    "    model=\"babbage-002\",\n",
    "    prompt=prompt,\n",
    "    max_tokens=50  # Optional, limits response length\n",
    ")\n",
    "\n",
    "print(response[\"choices\"][0][\"text\"])"
   ]
  },
  {
   "cell_type": "code",
   "execution_count": null,
   "metadata": {},
   "outputs": [],
   "source": [
    "prompt = \"What is Python?\"\n",
    "\n",
    "response = openai.Completion.create(\n",
    "    model=\"babbage-002\",\n",
    "    prompt=prompt,\n",
    "    \n",
    "    max_tokens=50  # Optional, limits response length\n",
    "    model=\"babbage-002\",\n",
    "    prompt=\"Explain AI in simple terms.\",\n",
    "    temperature=0.7,\n",
    "    top_p=1.0,\n",
    "    n=1,\n",
    "    stop=[\"\\n\"],\n",
    "    presence_penalty=0.5,\n",
    "    frequency_penalty=0.3\n",
    ")\n",
    "\n",
    "print(response[\"choices\"][0][\"text\"])"
   ]
  }
 ],
 "metadata": {
  "kernelspec": {
   "display_name": "openai",
   "language": "python",
   "name": "python3"
  },
  "language_info": {
   "codemirror_mode": {
    "name": "ipython",
    "version": 3
   },
   "file_extension": ".py",
   "mimetype": "text/x-python",
   "name": "python",
   "nbconvert_exporter": "python",
   "pygments_lexer": "ipython3",
   "version": "3.11.8"
  }
 },
 "nbformat": 4,
 "nbformat_minor": 2
}
